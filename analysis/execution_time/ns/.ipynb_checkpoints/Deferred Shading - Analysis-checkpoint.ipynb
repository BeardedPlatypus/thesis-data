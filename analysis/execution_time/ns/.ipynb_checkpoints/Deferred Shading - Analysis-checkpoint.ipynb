{
 "cells": [
  {
   "cell_type": "code",
   "execution_count": 2,
   "metadata": {
    "collapsed": true
   },
   "outputs": [],
   "source": [
    "%matplotlib inline"
   ]
  },
  {
   "cell_type": "markdown",
   "metadata": {},
   "source": [
    "# Deferred Shading"
   ]
  },
  {
   "cell_type": "markdown",
   "metadata": {},
   "source": [
    "## raw data"
   ]
  },
  {
   "cell_type": "code",
   "execution_count": 3,
   "metadata": {
    "collapsed": true
   },
   "outputs": [],
   "source": [
    "import json\n",
    "from pathlib import Path"
   ]
  },
  {
   "cell_type": "code",
   "execution_count": 4,
   "metadata": {
    "collapsed": true
   },
   "outputs": [],
   "source": [
    "RAW_DATA_ROOT = Path(\"C:/Users/Monthy/Documents/projects/thesis/thesis-data-suite/data/raw/forward_deferred\")"
   ]
  },
  {
   "cell_type": "code",
   "execution_count": 5,
   "metadata": {
    "collapsed": true
   },
   "outputs": [],
   "source": [
    "SCENES = { \"pipers-alley\" : [  \"58#1x_1y_1z\"\n",
    "\n",
    "                            , \"116#1x_1y_2z\"\n",
    "                            , \"116#1x_2y_1z\"\n",
    "                            , \"116#2x_1y_1z\"\n",
    "\n",
    "                            , \"174#1x_1y_3z\"\n",
    "                            , \"174#1x_3y_1z\"\n",
    "                            , \"174#3x_1y_1z\"\n",
    "\n",
    "                            , \"232#1x_2y_2z\"\n",
    "                            , \"232#2x_1y_2z\"\n",
    "                            , \"232#2x_2y_1z\"\n",
    "\n",
    "                            , \"348#1x_2y_3z\"\n",
    "                            , \"348#1x_3y_2z\"\n",
    "                            , \"348#2x_1y_3z\"\n",
    "                            , \"348#2x_3y_1z\"\n",
    "                            , \"348#3x_2y_1z\"\n",
    "                            , \"348#3x_1y_2z\"\n",
    "\n",
    "                            , \"464#2x_2y_2z\"\n",
    "\n",
    "                            , \"522#1x_3y_3z\"\n",
    "                            , \"522#3x_1y_3z\"\n",
    "                            , \"522#3x_3y_1z\"\n",
    "\n",
    "                            , \"696#2x_2y_3z\"\n",
    "                            , \"696#2x_3y_2z\"\n",
    "                            , \"696#3x_2y_2z\"\n",
    "\n",
    "                            , \"1044#2x_3y_3z\"\n",
    "                            , \"1044#3x_2y_3z\"\n",
    "                            , \"1044#3x_3y_2z\"\n",
    "                            ]\n",
    "         , \"ziggurat-city\" : [ \"65#1x_1y_1z\"\n",
    "\n",
    "                             , \"130#1x_1y_2z\"\n",
    "                             , \"130#1x_2y_1z\"\n",
    "                             , \"130#2x_1y_1z\"\n",
    "\n",
    "                             , \"195#3x_1y_1z\"\n",
    "                             , \"195#1x_3y_1z\"\n",
    "                             , \"195#1x_1y_3z\"\n",
    "\n",
    "                             , \"260#1x_2y_2z\"\n",
    "                             , \"260#2x_1y_2z\"\n",
    "                             , \"260#2x_2y_1z\"\n",
    "\n",
    "                             , \"390#1x_2y_3z\"\n",
    "                             , \"390#1x_3y_2z\"\n",
    "                             , \"390#2x_1y_3z\"\n",
    "                             , \"390#2x_3y_1z\"\n",
    "                             , \"390#3x_2y_1z\"\n",
    "                             , \"390#3x_1y_2z\"\n",
    "\n",
    "                             , \"520#2x_2y_2z\"\n",
    "\n",
    "                             , \"585#1x_3y_3z\"\n",
    "                             , \"585#3x_1y_3z\"\n",
    "                             , \"585#3x_3y_1z\"\n",
    "\n",
    "                             , \"780#2x_2y_3z\"\n",
    "                             , \"780#2x_3y_2z\"\n",
    "                             , \"780#3x_2y_2z\"\n",
    "\n",
    "                             , \"1170#2x_3y_3z\"\n",
    "                             , \"1170#3x_2y_3z\"\n",
    "                             , \"1170#3x_3y_2z\"\n",
    "                             ]\n",
    "         , \"spaceship-indoor\" : [ \"70#1x_1y_1z\"\n",
    "\n",
    "                                , \"140#1x_1y_2z\"\n",
    "                                , \"140#1x_2y_1z\"\n",
    "                                , \"140#2x_1y_1z\"\n",
    "\n",
    "                                , \"210#1x_1y_3z\"\n",
    "                                , \"210#1x_3y_1z\"\n",
    "                                , \"210#3x_1y_1z\"\n",
    "\n",
    "                                , \"280#1x_2y_2z\"\n",
    "                                , \"280#2x_1y_2z\"\n",
    "                                , \"280#2x_2y_1z\"\n",
    "\n",
    "                                , \"420#1x_2y_3z\"\n",
    "                                , \"420#1x_3y_2z\"\n",
    "                                , \"420#2x_1y_3z\"\n",
    "                                , \"420#2x_3y_1z\"\n",
    "                                , \"420#3x_1y_2z\"\n",
    "                                , \"420#3x_2y_1z\"\n",
    "\n",
    "                                , \"560#2x_2y_2z\"\n",
    "\n",
    "                                , \"630#1x_3y_3z\"\n",
    "                                , \"630#3x_1y_3z\"\n",
    "                                , \"630#3x_3y_1z\"\n",
    "\n",
    "                                , \"840#2x_2y_3z\"\n",
    "                                , \"840#2x_3y_2z\"\n",
    "                                , \"840#3x_2y_2z\"\n",
    "\n",
    "                                , \"1260#2x_3y_3z\"\n",
    "                                , \"1260#3x_2y_3z\"\n",
    "                                , \"1260#3x_3y_2z\"\n",
    "                                ]\n",
    "         }\n",
    "\n",
    "\n",
    "RESOLUTIONS = [ 160\n",
    "              , 320\n",
    "              , 640\n",
    "              , 960\n",
    "              , 1280\n",
    "              , 1920\n",
    "              , 2560\n",
    "              ]\n",
    "\n",
    "PIPELINE_TYPES = [ \"forward\"\n",
    "                 , \"deferred\" \n",
    "                 ]"
   ]
  },
  {
   "cell_type": "code",
   "execution_count": 6,
   "metadata": {
    "collapsed": true
   },
   "outputs": [],
   "source": [
    "import pandas as pd"
   ]
  },
  {
   "cell_type": "code",
   "execution_count": 7,
   "metadata": {
    "collapsed": true
   },
   "outputs": [],
   "source": [
    "import numpy as np"
   ]
  },
  {
   "cell_type": "code",
   "execution_count": 8,
   "metadata": {
    "collapsed": true
   },
   "outputs": [],
   "source": [
    "import seaborn as sns"
   ]
  },
  {
   "cell_type": "code",
   "execution_count": 9,
   "metadata": {
    "collapsed": true
   },
   "outputs": [],
   "source": [
    "import matplotlib\n",
    "import matplotlib.pyplot as plt"
   ]
  },
  {
   "cell_type": "code",
   "execution_count": 10,
   "metadata": {
    "collapsed": true
   },
   "outputs": [],
   "source": [
    "def json_to_dataframe(json_dic : dict) -> pd.DataFrame:\n",
    "    '''\n",
    "    Convert a json data file spit out by nTiled into something just slightly more useful\n",
    "    '''\n",
    "    # get all functions tracked from first frame\n",
    "    frames = json_dic[\"frames\"]\n",
    "    functions = list(x for x in frames[0][\"functions\"])\n",
    "    \n",
    "    # build empty dictionary which will be loaded with data from frames\n",
    "    data_raw = { fn : {} for fn in functions }    \n",
    "    frames_i = {}\n",
    "    \n",
    "    for f in frames:\n",
    "        f_i = int(f[\"frame\"])\n",
    "        frames_i[f_i] = f_i\n",
    "        for fn in functions:\n",
    "            if fn in f[\"functions\"]:\n",
    "                data_raw[fn][f_i] = float(f[\"functions\"][fn])\n",
    "            \n",
    "    data_series = {fn : pd.Series(data_raw[fn], name=fn) for fn in functions }\n",
    "    data_series[\"index\"] = pd.Series(frames_i, name=\"index\")\n",
    "    \n",
    "    dataframe = pd.DataFrame(data_series)\n",
    "    return dataframe"
   ]
  },
  {
   "cell_type": "code",
   "execution_count": 11,
   "metadata": {
    "collapsed": true
   },
   "outputs": [],
   "source": [
    "def retrieve_data():\n",
    "    '''\n",
    "    Retrieve all data created for deferred shading\n",
    "    '''\n",
    "    n_tests = 3\n",
    "    \n",
    "    data = {}\n",
    "    \n",
    "    RAW_DATA_ROOT\n",
    "    \n",
    "    pt_dict = {}\n",
    "    for pt in PIPELINE_TYPES:\n",
    "        path_pt = RAW_DATA_ROOT / Path(pt)\n",
    "        \n",
    "        scene_dict = {}\n",
    "        for scene in SCENES:\n",
    "            path_scene = path_pt / Path(scene)\n",
    "            \n",
    "            ld_dict = {}\n",
    "            for light_def in SCENES[scene]:\n",
    "                path_ld = path_scene / Path(light_def)\n",
    "                \n",
    "                res_dict = {}\n",
    "                for res in RESOLUTIONS:\n",
    "                    path_res = path_ld / Path(\"{}\".format(res))\n",
    "                    \n",
    "                    dataframes = []\n",
    "                    for i in range(n_tests):\n",
    "                        file_path = path_res / Path(\"data_{}.json\".format(i))\n",
    "                        \n",
    "                        with open(str(file_path), 'r') as f:\n",
    "                            data_json = json.loads(f.read())\n",
    "                            \n",
    "                        dataframes.append(json_to_dataframe(data_json))\n",
    "                        \n",
    "                    res_dict[res] = dataframes\n",
    "                ld_dict[light_def] = res_dict\n",
    "            scene_dict[scene] = ld_dict\n",
    "        pt_dict[pt] = scene_dict\n",
    "    \n",
    "    return pt_dict"
   ]
  },
  {
   "cell_type": "code",
   "execution_count": 12,
   "metadata": {
    "collapsed": true
   },
   "outputs": [],
   "source": [
    "data = retrieve_data()"
   ]
  },
  {
   "cell_type": "code",
   "execution_count": 13,
   "metadata": {
    "collapsed": true
   },
   "outputs": [],
   "source": [
    "def average_runs():\n",
    "    pass"
   ]
  },
  {
   "cell_type": "code",
   "execution_count": 14,
   "metadata": {
    "collapsed": true
   },
   "outputs": [],
   "source": [
    "def plot_resolutions(data):\n",
    "    pass\n",
    "\n",
    "def plot_lights(data):\n",
    "    pass\n",
    "\n",
    "def plot_frames(data):\n",
    "    pass"
   ]
  },
  {
   "cell_type": "code",
   "execution_count": 15,
   "metadata": {},
   "outputs": [
    {
     "data": {
      "text/html": [
       "<div>\n",
       "<table border=\"1\" class=\"dataframe\">\n",
       "  <thead>\n",
       "    <tr style=\"text-align: right;\">\n",
       "      <th></th>\n",
       "      <th>ForwardAttenuatedShader::renderObjects</th>\n",
       "      <th>index</th>\n",
       "    </tr>\n",
       "  </thead>\n",
       "  <tbody>\n",
       "    <tr>\n",
       "      <th>3</th>\n",
       "      <td>31.074370</td>\n",
       "      <td>3</td>\n",
       "    </tr>\n",
       "    <tr>\n",
       "      <th>4</th>\n",
       "      <td>77.336099</td>\n",
       "      <td>4</td>\n",
       "    </tr>\n",
       "    <tr>\n",
       "      <th>5</th>\n",
       "      <td>48.221630</td>\n",
       "      <td>5</td>\n",
       "    </tr>\n",
       "    <tr>\n",
       "      <th>6</th>\n",
       "      <td>66.253827</td>\n",
       "      <td>6</td>\n",
       "    </tr>\n",
       "    <tr>\n",
       "      <th>7</th>\n",
       "      <td>63.437037</td>\n",
       "      <td>7</td>\n",
       "    </tr>\n",
       "  </tbody>\n",
       "</table>\n",
       "</div>"
      ],
      "text/plain": [
       "   ForwardAttenuatedShader::renderObjects  index\n",
       "3                               31.074370      3\n",
       "4                               77.336099      4\n",
       "5                               48.221630      5\n",
       "6                               66.253827      6\n",
       "7                               63.437037      7"
      ]
     },
     "execution_count": 15,
     "metadata": {},
     "output_type": "execute_result"
    }
   ],
   "source": [
    "data[\"forward\"][\"spaceship-indoor\"][\"840#2x_2y_3z\"][640][0].head()"
   ]
  },
  {
   "cell_type": "code",
   "execution_count": 16,
   "metadata": {},
   "outputs": [
    {
     "data": {
      "text/html": [
       "<div>\n",
       "<table border=\"1\" class=\"dataframe\">\n",
       "  <thead>\n",
       "    <tr style=\"text-align: right;\">\n",
       "      <th></th>\n",
       "      <th>ForwardAttenuatedShader::renderObjects</th>\n",
       "      <th>index</th>\n",
       "    </tr>\n",
       "  </thead>\n",
       "  <tbody>\n",
       "    <tr>\n",
       "      <th>3</th>\n",
       "      <td>31.011160</td>\n",
       "      <td>3</td>\n",
       "    </tr>\n",
       "    <tr>\n",
       "      <th>4</th>\n",
       "      <td>77.297646</td>\n",
       "      <td>4</td>\n",
       "    </tr>\n",
       "    <tr>\n",
       "      <th>5</th>\n",
       "      <td>47.809053</td>\n",
       "      <td>5</td>\n",
       "    </tr>\n",
       "    <tr>\n",
       "      <th>6</th>\n",
       "      <td>66.276477</td>\n",
       "      <td>6</td>\n",
       "    </tr>\n",
       "    <tr>\n",
       "      <th>7</th>\n",
       "      <td>64.917070</td>\n",
       "      <td>7</td>\n",
       "    </tr>\n",
       "  </tbody>\n",
       "</table>\n",
       "</div>"
      ],
      "text/plain": [
       "   ForwardAttenuatedShader::renderObjects  index\n",
       "3                               31.011160      3\n",
       "4                               77.297646      4\n",
       "5                               47.809053      5\n",
       "6                               66.276477      6\n",
       "7                               64.917070      7"
      ]
     },
     "execution_count": 16,
     "metadata": {},
     "output_type": "execute_result"
    }
   ],
   "source": [
    "frame_mean = pd.concat((data[\"forward\"][\"spaceship-indoor\"][\"840#2x_2y_3z\"][640][0],\n",
    "                        data[\"forward\"][\"spaceship-indoor\"][\"840#2x_2y_3z\"][640][1],\n",
    "                        data[\"forward\"][\"spaceship-indoor\"][\"840#2x_2y_3z\"][640][2]))\n",
    "by_row_index = frame_mean.groupby(frame_mean.index)\n",
    "df_means = by_row_index.mean()\n",
    "\n",
    "df_means.head()"
   ]
  },
  {
   "cell_type": "code",
   "execution_count": 17,
   "metadata": {},
   "outputs": [
    {
     "data": {
      "image/png": "[encoded data removed]",
      "text/plain": [
       "<matplotlib.figure.Figure at 0x1327fb256a0>"
      ]
     },
     "metadata": {},
     "output_type": "display_data"
    },
    {
     "data": {
      "image/png": "[encoded data removed]",
      "text/plain": [
       "<matplotlib.figure.Figure at 0x132033e9ef0>"
      ]
     },
     "metadata": {},
     "output_type": "display_data"
    },
    {
     "data": {
      "image/png": "[encoded data removed]",
      "text/plain": [
       "<matplotlib.figure.Figure at 0x13203472908>"
      ]
     },
     "metadata": {},
     "output_type": "display_data"
    }
   ],
   "source": [
    "sns.lmplot(\"index\", \"ForwardAttenuatedShader::renderObjects\", data=data[\"forward\"][\"spaceship-indoor\"][\"840#2x_2y_3z\"][640][0], fit_reg=False)\n",
    "sns.lmplot(\"index\", \"ForwardAttenuatedShader::renderObjects\", data=data[\"forward\"][\"spaceship-indoor\"][\"840#2x_3y_2z\"][640][1], fit_reg=False)\n",
    "sns.lmplot(\"index\", \"ForwardAttenuatedShader::renderObjects\", data=data[\"forward\"][\"spaceship-indoor\"][\"840#3x_2y_2z\"][640][2], fit_reg=False)\n",
    "plt.show()"
   ]
  },
  {
   "cell_type": "code",
   "execution_count": 18,
   "metadata": {},
   "outputs": [
    {
     "data": {
      "text/plain": [
       "<seaborn.axisgrid.FacetGrid at 0x1327fb065c0>"
      ]
     },
     "execution_count": 18,
     "metadata": {},
     "output_type": "execute_result"
    },
    {
     "data": {
      "image/png": "[encoded data removed]",
      "text/plain": [
       "<matplotlib.figure.Figure at 0x1327f33b7b8>"
      ]
     },
     "metadata": {},
     "output_type": "display_data"
    }
   ],
   "source": [
    "sns.lmplot(\"index\", \"ForwardAttenuatedShader::renderObjects\", data=df_means, fit_reg=False)"
   ]
  },
  {
   "cell_type": "code",
   "execution_count": 19,
   "metadata": {},
   "outputs": [
    {
     "data": {
      "text/html": [
       "<div>\n",
       "<table border=\"1\" class=\"dataframe\">\n",
       "  <thead>\n",
       "    <tr style=\"text-align: right;\">\n",
       "      <th></th>\n",
       "      <th>DeferredAttenuatedShader::renderGeometryPassObjects</th>\n",
       "      <th>DeferredAttenuatedShader::renderLightPassObjects</th>\n",
       "      <th>index</th>\n",
       "    </tr>\n",
       "  </thead>\n",
       "  <tbody>\n",
       "    <tr>\n",
       "      <th>3</th>\n",
       "      <td>30.502297</td>\n",
       "      <td>0.082173</td>\n",
       "      <td>3</td>\n",
       "    </tr>\n",
       "    <tr>\n",
       "      <th>4</th>\n",
       "      <td>15.947444</td>\n",
       "      <td>0.103901</td>\n",
       "      <td>4</td>\n",
       "    </tr>\n",
       "    <tr>\n",
       "      <th>5</th>\n",
       "      <td>29.495680</td>\n",
       "      <td>0.038716</td>\n",
       "      <td>5</td>\n",
       "    </tr>\n",
       "    <tr>\n",
       "      <th>6</th>\n",
       "      <td>15.610852</td>\n",
       "      <td>0.098765</td>\n",
       "      <td>6</td>\n",
       "    </tr>\n",
       "    <tr>\n",
       "      <th>7</th>\n",
       "      <td>32.793258</td>\n",
       "      <td>0.041877</td>\n",
       "      <td>7</td>\n",
       "    </tr>\n",
       "  </tbody>\n",
       "</table>\n",
       "</div>"
      ],
      "text/plain": [
       "   DeferredAttenuatedShader::renderGeometryPassObjects  \\\n",
       "3                                          30.502297     \n",
       "4                                          15.947444     \n",
       "5                                          29.495680     \n",
       "6                                          15.610852     \n",
       "7                                          32.793258     \n",
       "\n",
       "   DeferredAttenuatedShader::renderLightPassObjects  index  \n",
       "3                                          0.082173      3  \n",
       "4                                          0.103901      4  \n",
       "5                                          0.038716      5  \n",
       "6                                          0.098765      6  \n",
       "7                                          0.041877      7  "
      ]
     },
     "execution_count": 19,
     "metadata": {},
     "output_type": "execute_result"
    }
   ],
   "source": [
    "data[\"deferred\"][\"spaceship-indoor\"][\"840#2x_2y_3z\"][640][0].head()"
   ]
  },
  {
   "cell_type": "code",
   "execution_count": 20,
   "metadata": {},
   "outputs": [
    {
     "ename": "NameError",
     "evalue": "name 'l' is not defined",
     "output_type": "error",
     "traceback": [
      "\u001b[1;31m---------------------------------------------------------------------------\u001b[0m",
      "\u001b[1;31mNameError\u001b[0m                                 Traceback (most recent call last)",
      "\u001b[1;32m<ipython-input-20-09c7fd59eee6>\u001b[0m in \u001b[0;36m<module>\u001b[1;34m()\u001b[0m\n\u001b[0;32m      1\u001b[0m \u001b[0mdf\u001b[0m \u001b[1;33m=\u001b[0m \u001b[0mdata\u001b[0m\u001b[1;33m[\u001b[0m\u001b[1;34m\"deferred\"\u001b[0m\u001b[1;33m]\u001b[0m\u001b[1;33m[\u001b[0m\u001b[1;34m\"spaceship-indoor\"\u001b[0m\u001b[1;33m]\u001b[0m\u001b[1;33m[\u001b[0m\u001b[1;34m\"840#2x_2y_3z\"\u001b[0m\u001b[1;33m]\u001b[0m\u001b[1;33m[\u001b[0m\u001b[1;36m640\u001b[0m\u001b[1;33m]\u001b[0m\u001b[1;33m[\u001b[0m\u001b[1;36m0\u001b[0m\u001b[1;33m]\u001b[0m\u001b[1;33m\u001b[0m\u001b[0m\n\u001b[0;32m      2\u001b[0m \u001b[1;33m\u001b[0m\u001b[0m\n\u001b[1;32m----> 3\u001b[1;33m \u001b[0mcol_list\u001b[0m \u001b[1;33m=\u001b[0m \u001b[0mlist\u001b[0m\u001b[1;33m(\u001b[0m\u001b[0mx\u001b[0m \u001b[1;32mfor\u001b[0m \u001b[0mx\u001b[0m \u001b[1;32min\u001b[0m \u001b[0ml\u001b[0m \u001b[1;32mif\u001b[0m \u001b[0mx\u001b[0m \u001b[1;33m!=\u001b[0m \u001b[1;34m'index'\u001b[0m\u001b[1;33m)\u001b[0m\u001b[1;33m\u001b[0m\u001b[0m\n\u001b[0m\u001b[0;32m      4\u001b[0m \u001b[0mdf\u001b[0m\u001b[1;33m.\u001b[0m\u001b[0mloc\u001b[0m\u001b[1;33m[\u001b[0m\u001b[1;33m:\u001b[0m\u001b[1;33m,\u001b[0m \u001b[1;34m'sum'\u001b[0m\u001b[1;33m]\u001b[0m \u001b[1;33m=\u001b[0m \u001b[0mdf\u001b[0m\u001b[1;33m[\u001b[0m\u001b[0mcol_list\u001b[0m\u001b[1;33m]\u001b[0m\u001b[1;33m.\u001b[0m\u001b[0msum\u001b[0m\u001b[1;33m(\u001b[0m\u001b[0maxis\u001b[0m\u001b[1;33m=\u001b[0m\u001b[1;36m1\u001b[0m\u001b[1;33m)\u001b[0m\u001b[1;33m\u001b[0m\u001b[0m\n\u001b[0;32m      5\u001b[0m \u001b[1;33m\u001b[0m\u001b[0m\n",
      "\u001b[1;31mNameError\u001b[0m: name 'l' is not defined"
     ]
    }
   ],
   "source": [
    "df = data[\"deferred\"][\"spaceship-indoor\"][\"840#2x_2y_3z\"][640][0]\n",
    "\n",
    "col_list = list(x for x in l if x != 'index')\n",
    "df.loc[:, 'sum'] = df[col_list].sum(axis=1)\n",
    "\n",
    "sns.lmplot(\"index\", \"sum\", data=df, fit_reg=False)"
   ]
  },
  {
   "cell_type": "code",
   "execution_count": 26,
   "metadata": {},
   "outputs": [
    {
     "data": {
      "text/plain": [
       "<seaborn.axisgrid.FacetGrid at 0x1320469a2b0>"
      ]
     },
     "execution_count": 26,
     "metadata": {},
     "output_type": "execute_result"
    },
    {
     "data": {
      "image/png": "[encoded data removed]",
      "text/plain": [
       "<matplotlib.figure.Figure at 0x1320469a4a8>"
      ]
     },
     "metadata": {},
     "output_type": "display_data"
    }
   ],
   "source": [
    "frame_mean = pd.concat((data[\"deferred\"][\"spaceship-indoor\"][\"840#2x_2y_3z\"][640][0],\n",
    "                        data[\"deferred\"][\"spaceship-indoor\"][\"840#2x_3y_2z\"][640][1],\n",
    "                        data[\"deferred\"][\"spaceship-indoor\"][\"840#3x_2y_2z\"][640][2]))\n",
    "by_row_index = frame_mean.groupby(frame_mean.index)\n",
    "df_means = by_row_index.mean()\n",
    "\n",
    "col_list = list(x for x in df_means if x != 'index')\n",
    "df_means.loc[:, 'sum'] = df[col_list].sum(axis=1)\n",
    "\n",
    "sns.lmplot(\"index\", \"sum\", data=df_means, fit_reg=False)"
   ]
  },
  {
   "cell_type": "code",
   "execution_count": 34,
   "metadata": {},
   "outputs": [
    {
     "data": {
      "image/png": "[encoded data removed]",
      "text/plain": [
       "<matplotlib.figure.Figure at 0x132047e9828>"
      ]
     },
     "metadata": {},
     "output_type": "display_data"
    }
   ],
   "source": [
    "forward_frame_mean = pd.concat((data[\"forward\"][\"spaceship-indoor\"][\"840#2x_2y_3z\"][640][0],\n",
    "                                data[\"forward\"][\"spaceship-indoor\"][\"840#2x_2y_3z\"][640][1],\n",
    "                                data[\"forward\"][\"spaceship-indoor\"][\"840#2x_2y_3z\"][640][2],\n",
    "                                data[\"forward\"][\"spaceship-indoor\"][\"840#2x_3y_2z\"][640][0],\n",
    "                                data[\"forward\"][\"spaceship-indoor\"][\"840#2x_3y_2z\"][640][1],\n",
    "                                data[\"forward\"][\"spaceship-indoor\"][\"840#2x_3y_2z\"][640][2],\n",
    "                                data[\"forward\"][\"spaceship-indoor\"][\"840#3x_2y_2z\"][640][0],\n",
    "                                data[\"forward\"][\"spaceship-indoor\"][\"840#3x_2y_2z\"][640][1],\n",
    "                                data[\"forward\"][\"spaceship-indoor\"][\"840#3x_2y_2z\"][640][2]))\n",
    "\n",
    "by_row_index = forward_frame_mean.groupby(forward_frame_mean.index)\n",
    "forward_df_means = by_row_index.mean()\n",
    "\n",
    "deferred_frame_mean = pd.concat((data[\"deferred\"][\"spaceship-indoor\"][\"840#2x_2y_3z\"][640][0],\n",
    "                                 data[\"deferred\"][\"spaceship-indoor\"][\"840#2x_2y_3z\"][640][1],\n",
    "                                 data[\"deferred\"][\"spaceship-indoor\"][\"840#2x_2y_3z\"][640][2],\n",
    "                                 data[\"deferred\"][\"spaceship-indoor\"][\"840#2x_3y_2z\"][640][0],\n",
    "                                 data[\"deferred\"][\"spaceship-indoor\"][\"840#2x_3y_2z\"][640][1],\n",
    "                                 data[\"deferred\"][\"spaceship-indoor\"][\"840#2x_3y_2z\"][640][2],\n",
    "                                 data[\"deferred\"][\"spaceship-indoor\"][\"840#3x_2y_2z\"][640][0],\n",
    "                                 data[\"deferred\"][\"spaceship-indoor\"][\"840#3x_2y_2z\"][640][1],\n",
    "                                 data[\"deferred\"][\"spaceship-indoor\"][\"840#3x_2y_2z\"][640][2]))\n",
    "\n",
    "by_row_index = frame_mean.groupby(frame_mean.index)\n",
    "deferred_df_means = by_row_index.mean()\n",
    "\n",
    "col_list = list(x for x in deferred_df_means if x != 'index')\n",
    "deferred_df_means.loc[:, 'sum'] = df[col_list].sum(axis=1)\n",
    "\n",
    "sns.regplot(\"index\", \"ForwardAttenuatedShader::renderObjects\", data=forward_df_means, fit_reg=False, label=\"Forward\")\n",
    "ax = sns.regplot(\"index\", \"sum\", data=deferred_df_means, fit_reg=False, label=\"Deferred\")\n",
    "\n",
    "ax.set(xlabel='Frames', ylabel='Execution time (ms)')\n",
    "ax.legend()\n",
    "\n",
    "ax.set_title(\"This is a title\")\n",
    "plt.show()\n",
    "\n"
   ]
  },
  {
   "cell_type": "code",
   "execution_count": 36,
   "metadata": {},
   "outputs": [
    {
     "data": {
      "text/plain": [
       "ForwardAttenuatedShader::renderObjects    218.138746\n",
       "index                                     261.000000\n",
       "dtype: float64"
      ]
     },
     "execution_count": 36,
     "metadata": {},
     "output_type": "execute_result"
    }
   ],
   "source": [
    "#df = pd.concat((data[\"forward\"][\"spaceship-indoor\"][\"840#2x_2y_3z\"][1280][0],\n",
    "#                data[\"forward\"][\"spaceship-indoor\"][\"840#2x_2y_3z\"][1280][1],\n",
    "#                data[\"forward\"][\"spaceship-indoor\"][\"840#2x_2y_3z\"][1280][2]))\n",
    "\n",
    "data[\"forward\"][\"spaceship-indoor\"][\"840#2x_2y_3z\"][1280][0].mean(axis=0)"
   ]
  },
  {
   "cell_type": "code",
   "execution_count": 37,
   "metadata": {},
   "outputs": [
    {
     "data": {
      "text/html": [
       "<div>\n",
       "<table border=\"1\" class=\"dataframe\">\n",
       "  <thead>\n",
       "    <tr style=\"text-align: right;\">\n",
       "      <th></th>\n",
       "      <th>ForwardAttenuatedShader::renderObjects</th>\n",
       "      <th>index</th>\n",
       "    </tr>\n",
       "  </thead>\n",
       "  <tbody>\n",
       "    <tr>\n",
       "      <th>3</th>\n",
       "      <td>202.957827</td>\n",
       "      <td>3</td>\n",
       "    </tr>\n",
       "    <tr>\n",
       "      <th>4</th>\n",
       "      <td>218.456099</td>\n",
       "      <td>4</td>\n",
       "    </tr>\n",
       "    <tr>\n",
       "      <th>5</th>\n",
       "      <td>218.132543</td>\n",
       "      <td>5</td>\n",
       "    </tr>\n",
       "    <tr>\n",
       "      <th>6</th>\n",
       "      <td>218.481778</td>\n",
       "      <td>6</td>\n",
       "    </tr>\n",
       "    <tr>\n",
       "      <th>7</th>\n",
       "      <td>217.939753</td>\n",
       "      <td>7</td>\n",
       "    </tr>\n",
       "    <tr>\n",
       "      <th>8</th>\n",
       "      <td>201.306469</td>\n",
       "      <td>8</td>\n",
       "    </tr>\n",
       "    <tr>\n",
       "      <th>9</th>\n",
       "      <td>216.840691</td>\n",
       "      <td>9</td>\n",
       "    </tr>\n",
       "    <tr>\n",
       "      <th>10</th>\n",
       "      <td>220.224395</td>\n",
       "      <td>10</td>\n",
       "    </tr>\n",
       "    <tr>\n",
       "      <th>11</th>\n",
       "      <td>218.294123</td>\n",
       "      <td>11</td>\n",
       "    </tr>\n",
       "    <tr>\n",
       "      <th>12</th>\n",
       "      <td>219.886617</td>\n",
       "      <td>12</td>\n",
       "    </tr>\n",
       "    <tr>\n",
       "      <th>13</th>\n",
       "      <td>219.791012</td>\n",
       "      <td>13</td>\n",
       "    </tr>\n",
       "    <tr>\n",
       "      <th>14</th>\n",
       "      <td>219.723457</td>\n",
       "      <td>14</td>\n",
       "    </tr>\n",
       "    <tr>\n",
       "      <th>15</th>\n",
       "      <td>221.938568</td>\n",
       "      <td>15</td>\n",
       "    </tr>\n",
       "    <tr>\n",
       "      <th>16</th>\n",
       "      <td>440.918519</td>\n",
       "      <td>16</td>\n",
       "    </tr>\n",
       "    <tr>\n",
       "      <th>17</th>\n",
       "      <td>0.677531</td>\n",
       "      <td>17</td>\n",
       "    </tr>\n",
       "    <tr>\n",
       "      <th>18</th>\n",
       "      <td>219.093728</td>\n",
       "      <td>18</td>\n",
       "    </tr>\n",
       "    <tr>\n",
       "      <th>19</th>\n",
       "      <td>219.819852</td>\n",
       "      <td>19</td>\n",
       "    </tr>\n",
       "    <tr>\n",
       "      <th>20</th>\n",
       "      <td>216.534914</td>\n",
       "      <td>20</td>\n",
       "    </tr>\n",
       "    <tr>\n",
       "      <th>21</th>\n",
       "      <td>218.891062</td>\n",
       "      <td>21</td>\n",
       "    </tr>\n",
       "    <tr>\n",
       "      <th>22</th>\n",
       "      <td>221.438420</td>\n",
       "      <td>22</td>\n",
       "    </tr>\n",
       "    <tr>\n",
       "      <th>23</th>\n",
       "      <td>220.940642</td>\n",
       "      <td>23</td>\n",
       "    </tr>\n",
       "    <tr>\n",
       "      <th>24</th>\n",
       "      <td>222.905284</td>\n",
       "      <td>24</td>\n",
       "    </tr>\n",
       "    <tr>\n",
       "      <th>25</th>\n",
       "      <td>217.411951</td>\n",
       "      <td>25</td>\n",
       "    </tr>\n",
       "    <tr>\n",
       "      <th>26</th>\n",
       "      <td>216.359901</td>\n",
       "      <td>26</td>\n",
       "    </tr>\n",
       "    <tr>\n",
       "      <th>27</th>\n",
       "      <td>217.326222</td>\n",
       "      <td>27</td>\n",
       "    </tr>\n",
       "    <tr>\n",
       "      <th>28</th>\n",
       "      <td>214.319012</td>\n",
       "      <td>28</td>\n",
       "    </tr>\n",
       "    <tr>\n",
       "      <th>29</th>\n",
       "      <td>219.407802</td>\n",
       "      <td>29</td>\n",
       "    </tr>\n",
       "    <tr>\n",
       "      <th>30</th>\n",
       "      <td>218.568296</td>\n",
       "      <td>30</td>\n",
       "    </tr>\n",
       "    <tr>\n",
       "      <th>31</th>\n",
       "      <td>215.175901</td>\n",
       "      <td>31</td>\n",
       "    </tr>\n",
       "    <tr>\n",
       "      <th>32</th>\n",
       "      <td>209.550617</td>\n",
       "      <td>32</td>\n",
       "    </tr>\n",
       "    <tr>\n",
       "      <th>...</th>\n",
       "      <td>...</td>\n",
       "      <td>...</td>\n",
       "    </tr>\n",
       "    <tr>\n",
       "      <th>490</th>\n",
       "      <td>268.104296</td>\n",
       "      <td>490</td>\n",
       "    </tr>\n",
       "    <tr>\n",
       "      <th>491</th>\n",
       "      <td>270.038914</td>\n",
       "      <td>491</td>\n",
       "    </tr>\n",
       "    <tr>\n",
       "      <th>492</th>\n",
       "      <td>271.865679</td>\n",
       "      <td>492</td>\n",
       "    </tr>\n",
       "    <tr>\n",
       "      <th>493</th>\n",
       "      <td>273.758025</td>\n",
       "      <td>493</td>\n",
       "    </tr>\n",
       "    <tr>\n",
       "      <th>494</th>\n",
       "      <td>283.904000</td>\n",
       "      <td>494</td>\n",
       "    </tr>\n",
       "    <tr>\n",
       "      <th>495</th>\n",
       "      <td>286.043259</td>\n",
       "      <td>495</td>\n",
       "    </tr>\n",
       "    <tr>\n",
       "      <th>496</th>\n",
       "      <td>286.002173</td>\n",
       "      <td>496</td>\n",
       "    </tr>\n",
       "    <tr>\n",
       "      <th>497</th>\n",
       "      <td>284.208198</td>\n",
       "      <td>497</td>\n",
       "    </tr>\n",
       "    <tr>\n",
       "      <th>498</th>\n",
       "      <td>286.369185</td>\n",
       "      <td>498</td>\n",
       "    </tr>\n",
       "    <tr>\n",
       "      <th>499</th>\n",
       "      <td>286.344296</td>\n",
       "      <td>499</td>\n",
       "    </tr>\n",
       "    <tr>\n",
       "      <th>500</th>\n",
       "      <td>279.635753</td>\n",
       "      <td>500</td>\n",
       "    </tr>\n",
       "    <tr>\n",
       "      <th>501</th>\n",
       "      <td>281.556938</td>\n",
       "      <td>501</td>\n",
       "    </tr>\n",
       "    <tr>\n",
       "      <th>502</th>\n",
       "      <td>278.255407</td>\n",
       "      <td>502</td>\n",
       "    </tr>\n",
       "    <tr>\n",
       "      <th>503</th>\n",
       "      <td>280.373728</td>\n",
       "      <td>503</td>\n",
       "    </tr>\n",
       "    <tr>\n",
       "      <th>504</th>\n",
       "      <td>284.786568</td>\n",
       "      <td>504</td>\n",
       "    </tr>\n",
       "    <tr>\n",
       "      <th>505</th>\n",
       "      <td>289.559309</td>\n",
       "      <td>505</td>\n",
       "    </tr>\n",
       "    <tr>\n",
       "      <th>506</th>\n",
       "      <td>290.172444</td>\n",
       "      <td>506</td>\n",
       "    </tr>\n",
       "    <tr>\n",
       "      <th>507</th>\n",
       "      <td>295.857778</td>\n",
       "      <td>507</td>\n",
       "    </tr>\n",
       "    <tr>\n",
       "      <th>508</th>\n",
       "      <td>293.231012</td>\n",
       "      <td>508</td>\n",
       "    </tr>\n",
       "    <tr>\n",
       "      <th>509</th>\n",
       "      <td>307.343802</td>\n",
       "      <td>509</td>\n",
       "    </tr>\n",
       "    <tr>\n",
       "      <th>510</th>\n",
       "      <td>324.601284</td>\n",
       "      <td>510</td>\n",
       "    </tr>\n",
       "    <tr>\n",
       "      <th>511</th>\n",
       "      <td>338.947160</td>\n",
       "      <td>511</td>\n",
       "    </tr>\n",
       "    <tr>\n",
       "      <th>512</th>\n",
       "      <td>332.280889</td>\n",
       "      <td>512</td>\n",
       "    </tr>\n",
       "    <tr>\n",
       "      <th>513</th>\n",
       "      <td>309.725235</td>\n",
       "      <td>513</td>\n",
       "    </tr>\n",
       "    <tr>\n",
       "      <th>514</th>\n",
       "      <td>293.261827</td>\n",
       "      <td>514</td>\n",
       "    </tr>\n",
       "    <tr>\n",
       "      <th>515</th>\n",
       "      <td>278.646519</td>\n",
       "      <td>515</td>\n",
       "    </tr>\n",
       "    <tr>\n",
       "      <th>516</th>\n",
       "      <td>267.411358</td>\n",
       "      <td>516</td>\n",
       "    </tr>\n",
       "    <tr>\n",
       "      <th>517</th>\n",
       "      <td>267.485630</td>\n",
       "      <td>517</td>\n",
       "    </tr>\n",
       "    <tr>\n",
       "      <th>518</th>\n",
       "      <td>269.560889</td>\n",
       "      <td>518</td>\n",
       "    </tr>\n",
       "    <tr>\n",
       "      <th>519</th>\n",
       "      <td>NaN</td>\n",
       "      <td>519</td>\n",
       "    </tr>\n",
       "  </tbody>\n",
       "</table>\n",
       "<p>517 rows × 2 columns</p>\n",
       "</div>"
      ],
      "text/plain": [
       "     ForwardAttenuatedShader::renderObjects  index\n",
       "3                                202.957827      3\n",
       "4                                218.456099      4\n",
       "5                                218.132543      5\n",
       "6                                218.481778      6\n",
       "7                                217.939753      7\n",
       "8                                201.306469      8\n",
       "9                                216.840691      9\n",
       "10                               220.224395     10\n",
       "11                               218.294123     11\n",
       "12                               219.886617     12\n",
       "13                               219.791012     13\n",
       "14                               219.723457     14\n",
       "15                               221.938568     15\n",
       "16                               440.918519     16\n",
       "17                                 0.677531     17\n",
       "18                               219.093728     18\n",
       "19                               219.819852     19\n",
       "20                               216.534914     20\n",
       "21                               218.891062     21\n",
       "22                               221.438420     22\n",
       "23                               220.940642     23\n",
       "24                               222.905284     24\n",
       "25                               217.411951     25\n",
       "26                               216.359901     26\n",
       "27                               217.326222     27\n",
       "28                               214.319012     28\n",
       "29                               219.407802     29\n",
       "30                               218.568296     30\n",
       "31                               215.175901     31\n",
       "32                               209.550617     32\n",
       "..                                      ...    ...\n",
       "490                              268.104296    490\n",
       "491                              270.038914    491\n",
       "492                              271.865679    492\n",
       "493                              273.758025    493\n",
       "494                              283.904000    494\n",
       "495                              286.043259    495\n",
       "496                              286.002173    496\n",
       "497                              284.208198    497\n",
       "498                              286.369185    498\n",
       "499                              286.344296    499\n",
       "500                              279.635753    500\n",
       "501                              281.556938    501\n",
       "502                              278.255407    502\n",
       "503                              280.373728    503\n",
       "504                              284.786568    504\n",
       "505                              289.559309    505\n",
       "506                              290.172444    506\n",
       "507                              295.857778    507\n",
       "508                              293.231012    508\n",
       "509                              307.343802    509\n",
       "510                              324.601284    510\n",
       "511                              338.947160    511\n",
       "512                              332.280889    512\n",
       "513                              309.725235    513\n",
       "514                              293.261827    514\n",
       "515                              278.646519    515\n",
       "516                              267.411358    516\n",
       "517                              267.485630    517\n",
       "518                              269.560889    518\n",
       "519                                     NaN    519\n",
       "\n",
       "[517 rows x 2 columns]"
      ]
     },
     "execution_count": 37,
     "metadata": {},
     "output_type": "execute_result"
    }
   ],
   "source": [
    "data[\"forward\"][\"spaceship-indoor\"][\"840#2x_2y_3z\"][1280][0]"
   ]
  },
  {
   "cell_type": "code",
   "execution_count": 38,
   "metadata": {},
   "outputs": [
    {
     "data": {
      "text/plain": [
       "ForwardAttenuatedShader::renderObjects    218.138746\n",
       "index                                     261.000000\n",
       "dtype: float64"
      ]
     },
     "execution_count": 38,
     "metadata": {},
     "output_type": "execute_result"
    }
   ],
   "source": [
    "(data[\"forward\"][\"spaceship-indoor\"][\"840#2x_2y_3z\"][1280][0].mean(axis=0)).transpose()"
   ]
  },
  {
   "cell_type": "code",
   "execution_count": 39,
   "metadata": {},
   "outputs": [
    {
     "data": {
      "text/html": [
       "<div>\n",
       "<table border=\"1\" class=\"dataframe\">\n",
       "  <thead>\n",
       "    <tr style=\"text-align: right;\">\n",
       "      <th></th>\n",
       "      <th>A</th>\n",
       "      <th>B</th>\n",
       "    </tr>\n",
       "  </thead>\n",
       "  <tbody>\n",
       "    <tr>\n",
       "      <th>0</th>\n",
       "      <td>0.873816</td>\n",
       "      <td>1.213796</td>\n",
       "    </tr>\n",
       "    <tr>\n",
       "      <th>1</th>\n",
       "      <td>0.238091</td>\n",
       "      <td>-0.139622</td>\n",
       "    </tr>\n",
       "    <tr>\n",
       "      <th>2</th>\n",
       "      <td>-0.410021</td>\n",
       "      <td>1.247497</td>\n",
       "    </tr>\n",
       "  </tbody>\n",
       "</table>\n",
       "</div>"
      ],
      "text/plain": [
       "          A         B\n",
       "0  0.873816  1.213796\n",
       "1  0.238091 -0.139622\n",
       "2 -0.410021  1.247497"
      ]
     },
     "execution_count": 39,
     "metadata": {},
     "output_type": "execute_result"
    }
   ],
   "source": [
    "df = pd.DataFrame(np.random.randn(3, 2), columns=['A','B'])\n",
    "df"
   ]
  },
  {
   "cell_type": "code",
   "execution_count": 41,
   "metadata": {},
   "outputs": [],
   "source": [
    "df = pd.DataFrame([[1, 2], [3, 4]], columns=list('AB'))\n",
    "\n",
    "df2 = pd.DataFrame([[5, 6], [7, 8]], columns=list('AB'))"
   ]
  },
  {
   "cell_type": "code",
   "execution_count": 42,
   "metadata": {},
   "outputs": [
    {
     "data": {
      "text/html": [
       "<div>\n",
       "<table border=\"1\" class=\"dataframe\">\n",
       "  <thead>\n",
       "    <tr style=\"text-align: right;\">\n",
       "      <th></th>\n",
       "      <th>A</th>\n",
       "      <th>B</th>\n",
       "    </tr>\n",
       "  </thead>\n",
       "  <tbody>\n",
       "    <tr>\n",
       "      <th>0</th>\n",
       "      <td>1</td>\n",
       "      <td>2</td>\n",
       "    </tr>\n",
       "    <tr>\n",
       "      <th>1</th>\n",
       "      <td>3</td>\n",
       "      <td>4</td>\n",
       "    </tr>\n",
       "  </tbody>\n",
       "</table>\n",
       "</div>"
      ],
      "text/plain": [
       "   A  B\n",
       "0  1  2\n",
       "1  3  4"
      ]
     },
     "execution_count": 42,
     "metadata": {},
     "output_type": "execute_result"
    }
   ],
   "source": [
    "df"
   ]
  },
  {
   "cell_type": "code",
   "execution_count": 43,
   "metadata": {},
   "outputs": [
    {
     "data": {
      "text/html": [
       "<div>\n",
       "<table border=\"1\" class=\"dataframe\">\n",
       "  <thead>\n",
       "    <tr style=\"text-align: right;\">\n",
       "      <th></th>\n",
       "      <th>A</th>\n",
       "      <th>B</th>\n",
       "    </tr>\n",
       "  </thead>\n",
       "  <tbody>\n",
       "    <tr>\n",
       "      <th>0</th>\n",
       "      <td>5</td>\n",
       "      <td>6</td>\n",
       "    </tr>\n",
       "    <tr>\n",
       "      <th>1</th>\n",
       "      <td>7</td>\n",
       "      <td>8</td>\n",
       "    </tr>\n",
       "  </tbody>\n",
       "</table>\n",
       "</div>"
      ],
      "text/plain": [
       "   A  B\n",
       "0  5  6\n",
       "1  7  8"
      ]
     },
     "execution_count": 43,
     "metadata": {},
     "output_type": "execute_result"
    }
   ],
   "source": [
    "df2"
   ]
  },
  {
   "cell_type": "code",
   "execution_count": 44,
   "metadata": {},
   "outputs": [
    {
     "data": {
      "text/html": [
       "<div>\n",
       "<table border=\"1\" class=\"dataframe\">\n",
       "  <thead>\n",
       "    <tr style=\"text-align: right;\">\n",
       "      <th></th>\n",
       "      <th>A</th>\n",
       "      <th>B</th>\n",
       "    </tr>\n",
       "  </thead>\n",
       "  <tbody>\n",
       "    <tr>\n",
       "      <th>0</th>\n",
       "      <td>1</td>\n",
       "      <td>2</td>\n",
       "    </tr>\n",
       "    <tr>\n",
       "      <th>1</th>\n",
       "      <td>3</td>\n",
       "      <td>4</td>\n",
       "    </tr>\n",
       "    <tr>\n",
       "      <th>0</th>\n",
       "      <td>5</td>\n",
       "      <td>6</td>\n",
       "    </tr>\n",
       "    <tr>\n",
       "      <th>1</th>\n",
       "      <td>7</td>\n",
       "      <td>8</td>\n",
       "    </tr>\n",
       "  </tbody>\n",
       "</table>\n",
       "</div>"
      ],
      "text/plain": [
       "   A  B\n",
       "0  1  2\n",
       "1  3  4\n",
       "0  5  6\n",
       "1  7  8"
      ]
     },
     "execution_count": 44,
     "metadata": {},
     "output_type": "execute_result"
    }
   ],
   "source": [
    "df.append(df2)"
   ]
  },
  {
   "cell_type": "code",
   "execution_count": 45,
   "metadata": {
    "collapsed": true
   },
   "outputs": [],
   "source": [
    "df = pd.DataFrame([[0.1, 160]], columns=[\"execution_time\", \"resolution\"])"
   ]
  },
  {
   "cell_type": "code",
   "execution_count": 46,
   "metadata": {},
   "outputs": [
    {
     "data": {
      "text/html": [
       "<div>\n",
       "<table border=\"1\" class=\"dataframe\">\n",
       "  <thead>\n",
       "    <tr style=\"text-align: right;\">\n",
       "      <th></th>\n",
       "      <th>execution_time</th>\n",
       "      <th>resolution</th>\n",
       "    </tr>\n",
       "  </thead>\n",
       "  <tbody>\n",
       "    <tr>\n",
       "      <th>0</th>\n",
       "      <td>0.1</td>\n",
       "      <td>160</td>\n",
       "    </tr>\n",
       "  </tbody>\n",
       "</table>\n",
       "</div>"
      ],
      "text/plain": [
       "   execution_time  resolution\n",
       "0             0.1         160"
      ]
     },
     "execution_count": 46,
     "metadata": {},
     "output_type": "execute_result"
    }
   ],
   "source": [
    "df"
   ]
  },
  {
   "cell_type": "code",
   "execution_count": 47,
   "metadata": {
    "collapsed": true
   },
   "outputs": [],
   "source": [
    "df2 = pd.DataFrame([[0.5, 320]], columns=[\"execution_time\", \"resolution\"])"
   ]
  },
  {
   "cell_type": "code",
   "execution_count": 48,
   "metadata": {},
   "outputs": [
    {
     "data": {
      "text/html": [
       "<div>\n",
       "<table border=\"1\" class=\"dataframe\">\n",
       "  <thead>\n",
       "    <tr style=\"text-align: right;\">\n",
       "      <th></th>\n",
       "      <th>execution_time</th>\n",
       "      <th>resolution</th>\n",
       "    </tr>\n",
       "  </thead>\n",
       "  <tbody>\n",
       "    <tr>\n",
       "      <th>0</th>\n",
       "      <td>0.5</td>\n",
       "      <td>320</td>\n",
       "    </tr>\n",
       "  </tbody>\n",
       "</table>\n",
       "</div>"
      ],
      "text/plain": [
       "   execution_time  resolution\n",
       "0             0.5         320"
      ]
     },
     "execution_count": 48,
     "metadata": {},
     "output_type": "execute_result"
    }
   ],
   "source": [
    "df2"
   ]
  },
  {
   "cell_type": "code",
   "execution_count": 49,
   "metadata": {},
   "outputs": [
    {
     "data": {
      "text/html": [
       "<div>\n",
       "<table border=\"1\" class=\"dataframe\">\n",
       "  <thead>\n",
       "    <tr style=\"text-align: right;\">\n",
       "      <th></th>\n",
       "      <th>execution_time</th>\n",
       "      <th>resolution</th>\n",
       "    </tr>\n",
       "  </thead>\n",
       "  <tbody>\n",
       "    <tr>\n",
       "      <th>0</th>\n",
       "      <td>0.1</td>\n",
       "      <td>160</td>\n",
       "    </tr>\n",
       "    <tr>\n",
       "      <th>0</th>\n",
       "      <td>0.5</td>\n",
       "      <td>320</td>\n",
       "    </tr>\n",
       "  </tbody>\n",
       "</table>\n",
       "</div>"
      ],
      "text/plain": [
       "   execution_time  resolution\n",
       "0             0.1         160\n",
       "0             0.5         320"
      ]
     },
     "execution_count": 49,
     "metadata": {},
     "output_type": "execute_result"
    }
   ],
   "source": [
    "df.append(df2)"
   ]
  },
  {
   "cell_type": "code",
   "execution_count": 50,
   "metadata": {
    "collapsed": true
   },
   "outputs": [],
   "source": [
    "df = pd.DataFrame([], columns=[\"execution_time\", \"resolution\"])"
   ]
  },
  {
   "cell_type": "code",
   "execution_count": 51,
   "metadata": {},
   "outputs": [
    {
     "data": {
      "text/html": [
       "<div>\n",
       "<table border=\"1\" class=\"dataframe\">\n",
       "  <thead>\n",
       "    <tr style=\"text-align: right;\">\n",
       "      <th></th>\n",
       "      <th>execution_time</th>\n",
       "      <th>resolution</th>\n",
       "    </tr>\n",
       "  </thead>\n",
       "  <tbody>\n",
       "  </tbody>\n",
       "</table>\n",
       "</div>"
      ],
      "text/plain": [
       "Empty DataFrame\n",
       "Columns: [execution_time, resolution]\n",
       "Index: []"
      ]
     },
     "execution_count": 51,
     "metadata": {},
     "output_type": "execute_result"
    }
   ],
   "source": [
    "df"
   ]
  },
  {
   "cell_type": "code",
   "execution_count": 53,
   "metadata": {},
   "outputs": [],
   "source": [
    "df.loc[320] = [0.5, 320]"
   ]
  },
  {
   "cell_type": "code",
   "execution_count": 54,
   "metadata": {},
   "outputs": [
    {
     "data": {
      "text/html": [
       "<div>\n",
       "<table border=\"1\" class=\"dataframe\">\n",
       "  <thead>\n",
       "    <tr style=\"text-align: right;\">\n",
       "      <th></th>\n",
       "      <th>execution_time</th>\n",
       "      <th>resolution</th>\n",
       "    </tr>\n",
       "  </thead>\n",
       "  <tbody>\n",
       "    <tr>\n",
       "      <th>320</th>\n",
       "      <td>0.5</td>\n",
       "      <td>320.0</td>\n",
       "    </tr>\n",
       "  </tbody>\n",
       "</table>\n",
       "</div>"
      ],
      "text/plain": [
       "     execution_time  resolution\n",
       "320             0.5       320.0"
      ]
     },
     "execution_count": 54,
     "metadata": {},
     "output_type": "execute_result"
    }
   ],
   "source": [
    "df"
   ]
  },
  {
   "cell_type": "code",
   "execution_count": 58,
   "metadata": {},
   "outputs": [
    {
     "data": {
      "text/plain": [
       "218.13874552588797"
      ]
     },
     "execution_count": 58,
     "metadata": {},
     "output_type": "execute_result"
    }
   ],
   "source": [
    "data[\"forward\"][\"spaceship-indoor\"][\"840#2x_2y_3z\"][1280][0].mean(axis=0).iloc[0]"
   ]
  },
  {
   "cell_type": "code",
   "execution_count": 60,
   "metadata": {},
   "outputs": [
    {
     "data": {
      "text/html": [
       "<div>\n",
       "<table border=\"1\" class=\"dataframe\">\n",
       "  <thead>\n",
       "    <tr style=\"text-align: right;\">\n",
       "      <th></th>\n",
       "      <th>execution_time</th>\n",
       "      <th>resolution</th>\n",
       "    </tr>\n",
       "  </thead>\n",
       "  <tbody>\n",
       "    <tr>\n",
       "      <th>0</th>\n",
       "      <td>15.651288</td>\n",
       "      <td>160.0</td>\n",
       "    </tr>\n",
       "    <tr>\n",
       "      <th>1</th>\n",
       "      <td>15.480167</td>\n",
       "      <td>160.0</td>\n",
       "    </tr>\n",
       "    <tr>\n",
       "      <th>2</th>\n",
       "      <td>15.357481</td>\n",
       "      <td>160.0</td>\n",
       "    </tr>\n",
       "    <tr>\n",
       "      <th>3</th>\n",
       "      <td>22.286430</td>\n",
       "      <td>320.0</td>\n",
       "    </tr>\n",
       "    <tr>\n",
       "      <th>4</th>\n",
       "      <td>22.314079</td>\n",
       "      <td>320.0</td>\n",
       "    </tr>\n",
       "    <tr>\n",
       "      <th>5</th>\n",
       "      <td>22.702431</td>\n",
       "      <td>320.0</td>\n",
       "    </tr>\n",
       "    <tr>\n",
       "      <th>6</th>\n",
       "      <td>65.227538</td>\n",
       "      <td>640.0</td>\n",
       "    </tr>\n",
       "    <tr>\n",
       "      <th>7</th>\n",
       "      <td>66.121984</td>\n",
       "      <td>640.0</td>\n",
       "    </tr>\n",
       "    <tr>\n",
       "      <th>8</th>\n",
       "      <td>59.808838</td>\n",
       "      <td>640.0</td>\n",
       "    </tr>\n",
       "    <tr>\n",
       "      <th>9</th>\n",
       "      <td>125.728743</td>\n",
       "      <td>960.0</td>\n",
       "    </tr>\n",
       "    <tr>\n",
       "      <th>10</th>\n",
       "      <td>130.369751</td>\n",
       "      <td>960.0</td>\n",
       "    </tr>\n",
       "    <tr>\n",
       "      <th>11</th>\n",
       "      <td>118.620410</td>\n",
       "      <td>960.0</td>\n",
       "    </tr>\n",
       "    <tr>\n",
       "      <th>12</th>\n",
       "      <td>218.138746</td>\n",
       "      <td>1280.0</td>\n",
       "    </tr>\n",
       "    <tr>\n",
       "      <th>13</th>\n",
       "      <td>225.747709</td>\n",
       "      <td>1280.0</td>\n",
       "    </tr>\n",
       "    <tr>\n",
       "      <th>14</th>\n",
       "      <td>216.083425</td>\n",
       "      <td>1280.0</td>\n",
       "    </tr>\n",
       "    <tr>\n",
       "      <th>15</th>\n",
       "      <td>467.209472</td>\n",
       "      <td>1920.0</td>\n",
       "    </tr>\n",
       "    <tr>\n",
       "      <th>16</th>\n",
       "      <td>440.019709</td>\n",
       "      <td>1920.0</td>\n",
       "    </tr>\n",
       "    <tr>\n",
       "      <th>17</th>\n",
       "      <td>440.660536</td>\n",
       "      <td>1920.0</td>\n",
       "    </tr>\n",
       "    <tr>\n",
       "      <th>18</th>\n",
       "      <td>637.668033</td>\n",
       "      <td>2560.0</td>\n",
       "    </tr>\n",
       "    <tr>\n",
       "      <th>19</th>\n",
       "      <td>649.551519</td>\n",
       "      <td>2560.0</td>\n",
       "    </tr>\n",
       "    <tr>\n",
       "      <th>20</th>\n",
       "      <td>633.607981</td>\n",
       "      <td>2560.0</td>\n",
       "    </tr>\n",
       "  </tbody>\n",
       "</table>\n",
       "</div>"
      ],
      "text/plain": [
       "    execution_time  resolution\n",
       "0        15.651288       160.0\n",
       "1        15.480167       160.0\n",
       "2        15.357481       160.0\n",
       "3        22.286430       320.0\n",
       "4        22.314079       320.0\n",
       "5        22.702431       320.0\n",
       "6        65.227538       640.0\n",
       "7        66.121984       640.0\n",
       "8        59.808838       640.0\n",
       "9       125.728743       960.0\n",
       "10      130.369751       960.0\n",
       "11      118.620410       960.0\n",
       "12      218.138746      1280.0\n",
       "13      225.747709      1280.0\n",
       "14      216.083425      1280.0\n",
       "15      467.209472      1920.0\n",
       "16      440.019709      1920.0\n",
       "17      440.660536      1920.0\n",
       "18      637.668033      2560.0\n",
       "19      649.551519      2560.0\n",
       "20      633.607981      2560.0"
      ]
     },
     "execution_count": 60,
     "metadata": {},
     "output_type": "execute_result"
    }
   ],
   "source": [
    "df = pd.DataFrame([], columns=[\"execution_time\", \"resolution\"])\n",
    "\n",
    "index = 0\n",
    "\n",
    "for res in RESOLUTIONS:\n",
    "    for i in range(3):\n",
    "        df.loc[index] = [data[\"forward\"][\"spaceship-indoor\"][\"840#2x_2y_3z\"][res][i].mean(axis=0).iloc[0], res]\n",
    "        index += 1\n",
    "        \n",
    "df    "
   ]
  },
  {
   "cell_type": "code",
   "execution_count": 61,
   "metadata": {},
   "outputs": [
    {
     "data": {
      "image/png": "[encoded data removed]",
      "text/plain": [
       "<matplotlib.figure.Figure at 0x132033e0c18>"
      ]
     },
     "metadata": {},
     "output_type": "display_data"
    }
   ],
   "source": [
    "ax = sns.regplot(\"resolution\", \"execution_time\", \n",
    "                 data=df, fit_reg=False, \n",
    "                 label=\"Forward\")\n",
    "    \n",
    "ax.set(xlabel='Resolution (px)', ylabel='Execution time (ms)')\n",
    "ax.legend()         \n",
    "ax.set_title(\"Resolution Graph\")\n",
    "    \n",
    "plt.show()"
   ]
  },
  {
   "cell_type": "code",
   "execution_count": 62,
   "metadata": {},
   "outputs": [
    {
     "data": {
      "text/plain": [
       "DeferredAttenuatedShader::renderGeometryPassObjects     95.467143\n",
       "DeferredAttenuatedShader::renderLightPassObjects         0.060343\n",
       "index                                                  261.000000\n",
       "dtype: float64"
      ]
     },
     "execution_count": 62,
     "metadata": {},
     "output_type": "execute_result"
    }
   ],
   "source": [
    "data[\"deferred\"][\"spaceship-indoor\"][\"840#2x_2y_3z\"][1280][0].mean(axis=0)"
   ]
  },
  {
   "cell_type": "code",
   "execution_count": 65,
   "metadata": {},
   "outputs": [
    {
     "data": {
      "text/plain": [
       "95.467143250384353"
      ]
     },
     "execution_count": 65,
     "metadata": {},
     "output_type": "execute_result"
    }
   ],
   "source": [
    "data[\"deferred\"][\"spaceship-indoor\"][\"840#2x_2y_3z\"][1280][0].mean(axis=0).iloc[0]"
   ]
  },
  {
   "cell_type": "code",
   "execution_count": 64,
   "metadata": {},
   "outputs": [
    {
     "data": {
      "text/plain": [
       "0.06034333446314781"
      ]
     },
     "execution_count": 64,
     "metadata": {},
     "output_type": "execute_result"
    }
   ],
   "source": [
    "data[\"deferred\"][\"spaceship-indoor\"][\"840#2x_2y_3z\"][1280][0].mean(axis=0).iloc[1]"
   ]
  },
  {
   "cell_type": "code",
   "execution_count": 66,
   "metadata": {},
   "outputs": [
    {
     "data": {
      "text/plain": [
       "58"
      ]
     },
     "execution_count": 66,
     "metadata": {},
     "output_type": "execute_result"
    }
   ],
   "source": [
    "int(\"58#1x_1y_1z\".split('#')[0])"
   ]
  },
  {
   "cell_type": "code",
   "execution_count": null,
   "metadata": {
    "collapsed": true
   },
   "outputs": [],
   "source": []
  }
 ],
 "metadata": {
  "kernelspec": {
   "display_name": "Python 3",
   "language": "python",
   "name": "python3"
  },
  "language_info": {
   "codemirror_mode": {
    "name": "ipython",
    "version": 3
   },
   "file_extension": ".py",
   "mimetype": "text/x-python",
   "name": "python",
   "nbconvert_exporter": "python",
   "pygments_lexer": "ipython3",
   "version": "3.5.1"
  }
 },
 "nbformat": 4,
 "nbformat_minor": 1
}
